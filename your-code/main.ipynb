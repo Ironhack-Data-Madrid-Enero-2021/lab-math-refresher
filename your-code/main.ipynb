{
 "cells": [
  {
   "cell_type": "code",
   "execution_count": 49,
   "metadata": {},
   "outputs": [],
   "source": [
    "#imports\n",
    "import matplotlib.pyplot as plt\n",
    "import numpy as np\n",
    "import math"
   ]
  },
  {
   "cell_type": "markdown",
   "metadata": {},
   "source": [
    "### 1. Euclidean plane"
   ]
  },
  {
   "cell_type": "markdown",
   "metadata": {},
   "source": [
    "Consider this 3 points on 2D space:  \n",
    "$A=(4, 5)$  \n",
    "$B=(-2, -4)$  \n",
    "$C=(8, -1)$  "
   ]
  },
  {
   "cell_type": "markdown",
   "metadata": {},
   "source": [
    "#### 1.1. Plot them using `matplotlib`  "
   ]
  },
  {
   "cell_type": "code",
   "execution_count": 2,
   "metadata": {},
   "outputs": [],
   "source": [
    "# put points in variables\n",
    "\n",
    "A = (4, 5)\n",
    "B = (-2, -4)\n",
    "C = (8, -1)"
   ]
  },
  {
   "cell_type": "code",
   "execution_count": 3,
   "metadata": {},
   "outputs": [
    {
     "data": {
      "text/plain": [
       "<matplotlib.legend.Legend at 0x7fdc41fabdf0>"
      ]
     },
     "execution_count": 3,
     "metadata": {},
     "output_type": "execute_result"
    },
    {
     "data": {
      "image/png": "[encoded data removed]",
      "text/plain": [
       "<Figure size 432x288 with 1 Axes>"
      ]
     },
     "metadata": {
      "needs_background": "light"
     },
     "output_type": "display_data"
    }
   ],
   "source": [
    "# create a plot\n",
    "fig, ax = plt.subplots()\n",
    "\n",
    "# add points\n",
    "plt.plot(A[0], A[1], \"o\", markersize=10, label=\"A\")\n",
    "plt.plot(B[0], B[1], \"o\", markersize=10, label=\"B\")\n",
    "plt.plot(C[0], C[1], \"o\", markersize=10, label=\"C\")\n",
    "\n",
    "# set axis limits\n",
    "ax.set_xlim([-10, 10])\n",
    "ax.set_ylim([-10, 10])\n",
    "\n",
    "# add legend\n",
    "plt.legend()"
   ]
  },
  {
   "cell_type": "markdown",
   "metadata": {},
   "source": [
    "#### 1.2. Which distance is longer, $AC, AB, \\text{or} BC$? Write a function that calculates distance between two points."
   ]
  },
  {
   "cell_type": "code",
   "execution_count": 4,
   "metadata": {},
   "outputs": [],
   "source": [
    "def distance_bet_points(point1, point2):\n",
    "    \"\"\"\n",
    "    Given two points, returns the distance between them\n",
    "    \n",
    "    Takes: two points\n",
    "    Returns: distance\n",
    "    \"\"\"\n",
    "    hor_seg = point1[0] - point2[0]\n",
    "    ver_seg = point1[1] - point2[1]\n",
    "    distance = ((hor_seg ** 2) + (ver_seg ** 2)) ** 0.5\n",
    "    return distance"
   ]
  },
  {
   "cell_type": "code",
   "execution_count": 11,
   "metadata": {},
   "outputs": [
    {
     "data": {
      "text/plain": [
       "7.211102550927978"
      ]
     },
     "execution_count": 11,
     "metadata": {},
     "output_type": "execute_result"
    }
   ],
   "source": [
    "AC = distance_bet_points(A, C)\n",
    "AC"
   ]
  },
  {
   "cell_type": "code",
   "execution_count": 12,
   "metadata": {},
   "outputs": [
    {
     "data": {
      "text/plain": [
       "10.816653826391969"
      ]
     },
     "execution_count": 12,
     "metadata": {},
     "output_type": "execute_result"
    }
   ],
   "source": [
    "AB = distance_bet_points(A, B)\n",
    "AB"
   ]
  },
  {
   "cell_type": "code",
   "execution_count": 13,
   "metadata": {},
   "outputs": [
    {
     "data": {
      "text/plain": [
       "10.44030650891055"
      ]
     },
     "execution_count": 13,
     "metadata": {},
     "output_type": "execute_result"
    }
   ],
   "source": [
    "BC = distance_bet_points(B, C)\n",
    "BC"
   ]
  },
  {
   "cell_type": "markdown",
   "metadata": {},
   "source": [
    "The longest distance is AB"
   ]
  },
  {
   "cell_type": "markdown",
   "metadata": {},
   "source": [
    "#### 1.3. What is the perimeter of triangle $ABC$?"
   ]
  },
  {
   "cell_type": "markdown",
   "metadata": {},
   "source": [
    "The perimeter is the sum of the sides"
   ]
  },
  {
   "cell_type": "code",
   "execution_count": 14,
   "metadata": {},
   "outputs": [
    {
     "data": {
      "text/plain": [
       "28.4680628862305"
      ]
     },
     "execution_count": 14,
     "metadata": {},
     "output_type": "execute_result"
    }
   ],
   "source": [
    "perimeter = AB + AC + BC\n",
    "perimeter"
   ]
  },
  {
   "cell_type": "markdown",
   "metadata": {},
   "source": [
    "### 2. Linear functions"
   ]
  },
  {
   "cell_type": "markdown",
   "metadata": {},
   "source": [
    "Consider the following straight lines on 2D space:  \n",
    "$y_1=2x-3$  \n",
    "$y_2=-3x+12$  "
   ]
  },
  {
   "cell_type": "markdown",
   "metadata": {},
   "source": [
    "#### 2.1. Plot them"
   ]
  },
  {
   "cell_type": "code",
   "execution_count": 41,
   "metadata": {},
   "outputs": [],
   "source": [
    "# init a grid\n",
    "def initialize_grid():\n",
    "    fig, ax = plt.subplots(figsize=(6, 6))\n",
    "    \n",
    "    # where do we want lines\n",
    "    ticks = np.arange(-10, 10, 1)\n",
    "    \n",
    "    # draw grid\n",
    "    ax.set_xticks(ticks)\n",
    "    ax.set_yticks(ticks)\n",
    "    ax.grid(True, which='both')\n",
    "    \n",
    "    # 1-1 X and Y proportion\n",
    "    ax.set_aspect('equal')\n",
    "    \n",
    "    # X and Y axes\n",
    "    ax.axhline(y=0, color='k')\n",
    "    ax.axvline(x=0, color='k')\n",
    "    \n",
    "    # set axes' limits\n",
    "    ax.set_xlim([-10, 10])\n",
    "    ax.set_ylim([-10, 10])"
   ]
  },
  {
   "cell_type": "code",
   "execution_count": 35,
   "metadata": {},
   "outputs": [],
   "source": [
    "# give values to x\n",
    "\n",
    "x = np.linspace(\n",
    "    start=-10, \n",
    "    stop=10, \n",
    "    num=500\n",
    ")"
   ]
  },
  {
   "cell_type": "code",
   "execution_count": 19,
   "metadata": {},
   "outputs": [],
   "source": [
    "# write the line formulas\n",
    "\n",
    "y1 = (2 * x) - 3\n",
    "y2 = (-3 * x) + 12"
   ]
  },
  {
   "cell_type": "code",
   "execution_count": 23,
   "metadata": {},
   "outputs": [
    {
     "data": {
      "text/plain": [
       "<matplotlib.legend.Legend at 0x7fdc426ba6d0>"
      ]
     },
     "execution_count": 23,
     "metadata": {},
     "output_type": "execute_result"
    },
    {
     "data": {
      "image/png": "[encoded data removed]",
      "text/plain": [
       "<Figure size 432x432 with 1 Axes>"
      ]
     },
     "metadata": {
      "needs_background": "light"
     },
     "output_type": "display_data"
    }
   ],
   "source": [
    "initialize_grid()\n",
    "plt.plot(x, y1, label=\"y1\")\n",
    "plt.plot(x, y2, label=\"y2\")\n",
    "plt.legend()"
   ]
  },
  {
   "cell_type": "markdown",
   "metadata": {},
   "source": [
    "#### 2.2. What are the respective slopes"
   ]
  },
  {
   "cell_type": "markdown",
   "metadata": {},
   "source": [
    "The slope in a line formula in the form y = mx + c is 'm' constant. In this case, the slope of $y_1$ = 2 and the slope of $y_2$ = -3"
   ]
  },
  {
   "cell_type": "markdown",
   "metadata": {},
   "source": [
    "#### 2.3. Give 3 points through which $y_1$ goes through"
   ]
  },
  {
   "cell_type": "markdown",
   "metadata": {},
   "source": [
    "point1 = (0, -3), this is where $y_1$ intercepts the y-axis, that is when x = 0"
   ]
  },
  {
   "cell_type": "markdown",
   "metadata": {},
   "source": [
    "point2 = (1.5, 0), this is where $y_1$ intercepts the x-axis, that is when y = 0"
   ]
  },
  {
   "cell_type": "markdown",
   "metadata": {},
   "source": [
    "point3 = (1, -1)"
   ]
  },
  {
   "cell_type": "markdown",
   "metadata": {},
   "source": [
    "#### 2.4. Where do they intersect?"
   ]
  },
  {
   "cell_type": "markdown",
   "metadata": {},
   "source": [
    "They intersect where (2 * x) - 3 = (-3 * x) + 12. Once we have x we can solve for y"
   ]
  },
  {
   "cell_type": "markdown",
   "metadata": {},
   "source": [
    "This equation is true for x = 3. When x = 3, y = 3, so both lines intersect at (3,3)"
   ]
  },
  {
   "cell_type": "markdown",
   "metadata": {},
   "source": [
    "#### 2.5. BONUS "
   ]
  },
  {
   "cell_type": "markdown",
   "metadata": {},
   "source": [
    "My yearly salary has increased **linearly** with my age:  \n",
    "When I was 21 years old, I did 10000\\\\$ / year    \n",
    "Today I am 39 years old, I am doing 33400\\\\$ / year  \n",
    "How much will I do when I get 50 years old?"
   ]
  },
  {
   "cell_type": "code",
   "execution_count": 30,
   "metadata": {},
   "outputs": [],
   "source": [
    "salary_at_21 = 10_000\n",
    "salary_at_39 = 33_400"
   ]
  },
  {
   "cell_type": "code",
   "execution_count": 31,
   "metadata": {},
   "outputs": [
    {
     "data": {
      "text/plain": [
       "1300.0"
      ]
     },
     "execution_count": 31,
     "metadata": {},
     "output_type": "execute_result"
    }
   ],
   "source": [
    "annual_increase = (salary_at_39 - salary_at_21) / (39 - 21)\n",
    "annual_increase"
   ]
  },
  {
   "cell_type": "code",
   "execution_count": 32,
   "metadata": {},
   "outputs": [
    {
     "data": {
      "text/plain": [
       "47700.0"
      ]
     },
     "execution_count": 32,
     "metadata": {},
     "output_type": "execute_result"
    }
   ],
   "source": [
    "salary_at_50 = salary_at_39 + (annual_increase * (50 - 39))\n",
    "salary_at_50"
   ]
  },
  {
   "cell_type": "markdown",
   "metadata": {},
   "source": [
    "### 3. Polynomials"
   ]
  },
  {
   "cell_type": "markdown",
   "metadata": {},
   "source": [
    "Consider these different degree polynomials:  \n",
    "$y_2=x^2-3x-10$  \n",
    "$y_3=x^3-2x^2+5x+1$  \n",
    "$y_4=x^4-x^3+x^2-x+1$  "
   ]
  },
  {
   "cell_type": "code",
   "execution_count": 37,
   "metadata": {},
   "outputs": [],
   "source": [
    "y2 = (x ** 2) - (3 * x) - 10\n",
    "y3 = (x ** 3) - (2 * (x ** 2)) + (5 * x) + 1\n",
    "y4 = (x ** 4) - (x ** 3) + (x ** 2) - x + 1"
   ]
  },
  {
   "cell_type": "markdown",
   "metadata": {},
   "source": [
    "#### 3.1. Plot them"
   ]
  },
  {
   "cell_type": "code",
   "execution_count": 42,
   "metadata": {},
   "outputs": [
    {
     "data": {
      "text/plain": [
       "<matplotlib.legend.Legend at 0x7fdc429413a0>"
      ]
     },
     "execution_count": 42,
     "metadata": {},
     "output_type": "execute_result"
    },
    {
     "data": {
      "image/png": "[encoded data removed]",
      "text/plain": [
       "<Figure size 432x432 with 1 Axes>"
      ]
     },
     "metadata": {
      "needs_background": "light"
     },
     "output_type": "display_data"
    }
   ],
   "source": [
    "initialize_grid()\n",
    "plt.plot(x, y2, label=\"y2\")\n",
    "plt.plot(x, y3, label=\"y3\")\n",
    "plt.plot(x, y4, label=\"y4\")\n",
    "plt.legend()"
   ]
  },
  {
   "cell_type": "markdown",
   "metadata": {},
   "source": [
    "#### 3.2. Which one takes a bigger value on $x=0$? On $x=2$? On $x=100$?"
   ]
  },
  {
   "cell_type": "markdown",
   "metadata": {},
   "source": [
    "On x = 0, $y_3$ and $y_4$ share the highest y value, which is y = 1"
   ]
  },
  {
   "cell_type": "markdown",
   "metadata": {},
   "source": [
    "On x = 2, again $y_3$ and $y_4$ have the highest value for y, which is y = 11"
   ]
  },
  {
   "cell_type": "markdown",
   "metadata": {},
   "source": [
    "The graph shows that for values higher than x = 2, $y_4$ will clearly have the higest value for y. On x = 100, $y_4$ will therefore have the highest value for y"
   ]
  },
  {
   "cell_type": "code",
   "execution_count": 47,
   "metadata": {},
   "outputs": [],
   "source": [
    "y4_100 = (100 ** 4) - (100 ** 3) + (100 ** 2) - 100 + 1"
   ]
  },
  {
   "cell_type": "code",
   "execution_count": 46,
   "metadata": {},
   "outputs": [
    {
     "data": {
      "text/plain": [
       "99009901"
      ]
     },
     "execution_count": 46,
     "metadata": {},
     "output_type": "execute_result"
    }
   ],
   "source": [
    "y4_100"
   ]
  },
  {
   "cell_type": "markdown",
   "metadata": {},
   "source": [
    "#### 3.3. Who is the vertex of parabola $y_2$?"
   ]
  },
  {
   "cell_type": "markdown",
   "metadata": {},
   "source": [
    "$y_2=x^2-3x-10$  "
   ]
  },
  {
   "cell_type": "markdown",
   "metadata": {},
   "source": [
    "$y_2$ can also be written as $(x - 1.5) ^ 2 -12.25$"
   ]
  },
  {
   "cell_type": "markdown",
   "metadata": {},
   "source": [
    "So we know the vertex of the parabola is the point (1.5, -12.25)"
   ]
  },
  {
   "cell_type": "markdown",
   "metadata": {},
   "source": [
    "#### 3.4. Where does $y_2$ intersect X axis? And Y axis?"
   ]
  },
  {
   "cell_type": "markdown",
   "metadata": {},
   "source": [
    "As can be seen on the graph, $y_2$ intersects the x-axis on (-2, 0) and (5, 0)"
   ]
  },
  {
   "cell_type": "markdown",
   "metadata": {},
   "source": [
    "$y_2$ intersects the y-axis when x = 0, that is on (0, -10)"
   ]
  },
  {
   "cell_type": "markdown",
   "metadata": {},
   "source": [
    "#### 3.5. As x gets very big, what happens to $y$ go in each case?"
   ]
  },
  {
   "cell_type": "markdown",
   "metadata": {},
   "source": [
    "As can be seen in the graph, as gets very big, y will grow much bigger than x"
   ]
  },
  {
   "cell_type": "markdown",
   "metadata": {},
   "source": [
    "#### 3.6. As x gets very small (big negative), what happens to $y$ go in each case?"
   ]
  },
  {
   "cell_type": "markdown",
   "metadata": {},
   "source": [
    "For $y_2$ and $y_4$, as x gets very small, y will get very big.\n",
    "For $y_3$ as x gets very small y will get even smaller"
   ]
  },
  {
   "cell_type": "markdown",
   "metadata": {},
   "source": [
    "### 4. Exponential"
   ]
  },
  {
   "cell_type": "markdown",
   "metadata": {},
   "source": [
    "#### 4.1. Print number $e$ rounded to 3 decimal figures"
   ]
  },
  {
   "cell_type": "code",
   "execution_count": 52,
   "metadata": {},
   "outputs": [
    {
     "name": "stdout",
     "output_type": "stream",
     "text": [
      "2.718\n"
     ]
    }
   ],
   "source": [
    "print(round(math.e, 3))"
   ]
  },
  {
   "cell_type": "markdown",
   "metadata": {},
   "source": [
    "#### 4.2. Compute $e$ to the powers 0, 1, 2, 3, 10"
   ]
  },
  {
   "cell_type": "code",
   "execution_count": 55,
   "metadata": {},
   "outputs": [
    {
     "name": "stdout",
     "output_type": "stream",
     "text": [
      "1.0\n",
      "2.718\n",
      "7.389\n",
      "20.086\n",
      "22026.466\n"
     ]
    }
   ],
   "source": [
    "powers = (0, 1, 2, 3, 10)\n",
    "for i in powers:\n",
    "    print(round(math.e ** i, 3))"
   ]
  },
  {
   "cell_type": "markdown",
   "metadata": {},
   "source": [
    "#### 4.3. Compute $e$ to the powers 0, -1, -2, -3, -10"
   ]
  },
  {
   "cell_type": "code",
   "execution_count": 56,
   "metadata": {},
   "outputs": [
    {
     "name": "stdout",
     "output_type": "stream",
     "text": [
      "1.0\n",
      "0.368\n",
      "0.135\n",
      "0.05\n",
      "0.0\n"
     ]
    }
   ],
   "source": [
    "powers = (0, -1, -2, -3, -10)\n",
    "for i in powers:\n",
    "    print(round(math.e ** i, 3))"
   ]
  },
  {
   "cell_type": "markdown",
   "metadata": {},
   "source": [
    "#### 4.4. Plot functions $e^x$, $e^{2x}$, $e^{-x}$"
   ]
  },
  {
   "cell_type": "markdown",
   "metadata": {},
   "source": [
    "Note: choose an appropiate x-range to visualize them all toguether"
   ]
  },
  {
   "cell_type": "code",
   "execution_count": 78,
   "metadata": {},
   "outputs": [],
   "source": [
    "def initialize_grid_for_e():\n",
    "    fig, ax = plt.subplots(figsize=(7, 7))\n",
    "    \n",
    "    # where do we want lines\n",
    "    ticks = np.arange(-10, 10, 1)\n",
    "    \n",
    "    # draw grid\n",
    "    ax.set_xticks(ticks)\n",
    "    ax.set_yticks(ticks)\n",
    "    ax.grid(True, which='both')\n",
    "    \n",
    "    # 1-1 X and Y proportion\n",
    "    ax.set_aspect('equal')\n",
    "    \n",
    "    # X and Y axes\n",
    "    ax.axhline(y=0, color='k')\n",
    "    ax.axvline(x=0, color='k')\n",
    "    \n",
    "    # set axes' limits\n",
    "    ax.set_xlim([-5, 5])\n",
    "    ax.set_ylim([-1, 10])"
   ]
  },
  {
   "cell_type": "code",
   "execution_count": 79,
   "metadata": {},
   "outputs": [],
   "source": [
    "y_e1 = math.e ** x\n",
    "y_e2 = math.e ** (2 * x)\n",
    "y_e3 = math.e ** (-x)"
   ]
  },
  {
   "cell_type": "code",
   "execution_count": 80,
   "metadata": {},
   "outputs": [
    {
     "data": {
      "text/plain": [
       "<matplotlib.legend.Legend at 0x7fdc4331aee0>"
      ]
     },
     "execution_count": 80,
     "metadata": {},
     "output_type": "execute_result"
    },
    {
     "data": {
      "image/png": "[encoded data removed]",
      "text/plain": [
       "<Figure size 504x504 with 1 Axes>"
      ]
     },
     "metadata": {
      "needs_background": "light"
     },
     "output_type": "display_data"
    }
   ],
   "source": [
    "initialize_grid_for_e()\n",
    "plt.plot(x, y_e1, label=\"y_e1\")\n",
    "plt.plot(x, y_e2, label=\"y_e2\")\n",
    "plt.plot(x, y_e3, label=\"y_e3\")\n",
    "plt.legend()"
   ]
  },
  {
   "cell_type": "markdown",
   "metadata": {},
   "source": [
    "### 5. Sum notation"
   ]
  },
  {
   "cell_type": "markdown",
   "metadata": {},
   "source": [
    "Find the following:"
   ]
  },
  {
   "cell_type": "markdown",
   "metadata": {},
   "source": [
    "$$\\sum_{n=4}^7 n$$"
   ]
  },
  {
   "cell_type": "code",
   "execution_count": 85,
   "metadata": {},
   "outputs": [],
   "source": [
    "accum_sum = 0\n",
    "for n in range(4,8):\n",
    "    accum_sum += n"
   ]
  },
  {
   "cell_type": "code",
   "execution_count": 86,
   "metadata": {},
   "outputs": [
    {
     "data": {
      "text/plain": [
       "22"
      ]
     },
     "execution_count": 86,
     "metadata": {},
     "output_type": "execute_result"
    }
   ],
   "source": [
    "accum_sum"
   ]
  },
  {
   "cell_type": "markdown",
   "metadata": {},
   "source": [
    "$$\\sum_{n=-2}^3 (n + 1)$$"
   ]
  },
  {
   "cell_type": "code",
   "execution_count": 87,
   "metadata": {},
   "outputs": [],
   "source": [
    "accum_sum = 0\n",
    "for n in range (-2,4):\n",
    "    accum_sum += (n + 1)"
   ]
  },
  {
   "cell_type": "code",
   "execution_count": 88,
   "metadata": {},
   "outputs": [
    {
     "data": {
      "text/plain": [
       "9"
      ]
     },
     "execution_count": 88,
     "metadata": {},
     "output_type": "execute_result"
    }
   ],
   "source": [
    "accum_sum"
   ]
  },
  {
   "cell_type": "markdown",
   "metadata": {},
   "source": [
    "$$\\sum_{n=-2}^3 (n^2 - 2)$$"
   ]
  },
  {
   "cell_type": "code",
   "execution_count": 89,
   "metadata": {},
   "outputs": [],
   "source": [
    "accum_sum = 0\n",
    "for n in range (-2,4):\n",
    "    accum_sum += ((n ** 2) - 2)"
   ]
  },
  {
   "cell_type": "code",
   "execution_count": 90,
   "metadata": {},
   "outputs": [
    {
     "data": {
      "text/plain": [
       "7"
      ]
     },
     "execution_count": 90,
     "metadata": {},
     "output_type": "execute_result"
    }
   ],
   "source": [
    "accum_sum"
   ]
  },
  {
   "cell_type": "markdown",
   "metadata": {},
   "source": [
    "$$\\sum_{n=0}^4 (10^n - 1)$$"
   ]
  },
  {
   "cell_type": "code",
   "execution_count": 91,
   "metadata": {},
   "outputs": [],
   "source": [
    "accum_sum = 0\n",
    "for n in range (0,5):\n",
    "    accum_sum += ((10 ** n) - 1)"
   ]
  },
  {
   "cell_type": "code",
   "execution_count": 92,
   "metadata": {},
   "outputs": [
    {
     "data": {
      "text/plain": [
       "11106"
      ]
     },
     "execution_count": 92,
     "metadata": {},
     "output_type": "execute_result"
    }
   ],
   "source": [
    "accum_sum"
   ]
  },
  {
   "cell_type": "markdown",
   "metadata": {},
   "source": [
    "### 6. Combinatorics"
   ]
  },
  {
   "cell_type": "markdown",
   "metadata": {},
   "source": [
    "#### 6.1. Ten people go to a party. How many handshakes happen?"
   ]
  },
  {
   "cell_type": "code",
   "execution_count": 93,
   "metadata": {},
   "outputs": [],
   "source": [
    "accum_handshakes = 0\n",
    "for n in range(10):\n",
    "    accum_handshakes += n"
   ]
  },
  {
   "cell_type": "code",
   "execution_count": 94,
   "metadata": {},
   "outputs": [
    {
     "data": {
      "text/plain": [
       "45"
      ]
     },
     "execution_count": 94,
     "metadata": {},
     "output_type": "execute_result"
    }
   ],
   "source": [
    "accum_handshakes"
   ]
  },
  {
   "cell_type": "markdown",
   "metadata": {},
   "source": [
    "#### 6.2. My family is composed of 11 members. By christmas, one buys food, one cooks and one cleans. How many possible arrangements of buyer-cooker-cleaner are there?"
   ]
  },
  {
   "cell_type": "markdown",
   "metadata": {},
   "source": [
    "$\\frac{11!}{(11-3)!}$"
   ]
  },
  {
   "cell_type": "code",
   "execution_count": 95,
   "metadata": {},
   "outputs": [
    {
     "data": {
      "text/plain": [
       "990"
      ]
     },
     "execution_count": 95,
     "metadata": {},
     "output_type": "execute_result"
    }
   ],
   "source": [
    "arrangements = 11 * 10 * 9\n",
    "arrangements"
   ]
  },
  {
   "cell_type": "markdown",
   "metadata": {},
   "source": [
    "### BONUS"
   ]
  },
  {
   "cell_type": "markdown",
   "metadata": {},
   "source": [
    "11 and 13 are twin primes, since:\n",
    " - they are both primes  \n",
    " - their distance is 2\n",
    " \n",
    "Find all pairs of twin primes below 1000"
   ]
  },
  {
   "cell_type": "code",
   "execution_count": 96,
   "metadata": {},
   "outputs": [],
   "source": [
    "def divisors(n):\n",
    "    \"\"\"\n",
    "    Given an integer, returns its divisors\n",
    "    Args:\n",
    "        n (int): number to find divisors of\n",
    "    \n",
    "    Returns:\n",
    "        list: of its divisors\n",
    "    \"\"\"    \n",
    "    divs = []\n",
    "    \n",
    "    for i in range(1, n):\n",
    "        # n divisible by i\n",
    "        if n % i == 0:\n",
    "            divs.append(i)\n",
    "            \n",
    "    return divs"
   ]
  },
  {
   "cell_type": "code",
   "execution_count": 97,
   "metadata": {},
   "outputs": [],
   "source": [
    "def is_prime(n):\n",
    "    \"\"\"\n",
    "    Decides whether a number is prime or not\n",
    "    Args:\n",
    "        n (int): number to check\n",
    "    Returns:\n",
    "        bool: whether it is or not prime\n",
    "    \"\"\"\n",
    "    # get divisors\n",
    "    divs = divisors(n)\n",
    "    \n",
    "    if len(divs) == 1:\n",
    "        return True\n",
    "    else:\n",
    "        return False"
   ]
  },
  {
   "cell_type": "code",
   "execution_count": 98,
   "metadata": {},
   "outputs": [
    {
     "name": "stdout",
     "output_type": "stream",
     "text": [
      "(3, 5)\n",
      "(5, 7)\n",
      "(11, 13)\n",
      "(17, 19)\n",
      "(29, 31)\n",
      "(41, 43)\n",
      "(59, 61)\n",
      "(71, 73)\n",
      "(101, 103)\n",
      "(107, 109)\n",
      "(137, 139)\n",
      "(149, 151)\n",
      "(179, 181)\n",
      "(191, 193)\n",
      "(197, 199)\n",
      "(227, 229)\n",
      "(239, 241)\n",
      "(269, 271)\n",
      "(281, 283)\n",
      "(311, 313)\n",
      "(347, 349)\n",
      "(419, 421)\n",
      "(431, 433)\n",
      "(461, 463)\n",
      "(521, 523)\n",
      "(569, 571)\n",
      "(599, 601)\n",
      "(617, 619)\n",
      "(641, 643)\n",
      "(659, 661)\n",
      "(809, 811)\n",
      "(821, 823)\n",
      "(827, 829)\n",
      "(857, 859)\n",
      "(881, 883)\n"
     ]
    }
   ],
   "source": [
    "for n in range(1_000):\n",
    "    if is_prime(n) and is_prime(n + 2):\n",
    "        print((n, n+2))"
   ]
  },
  {
   "cell_type": "code",
   "execution_count": null,
   "metadata": {},
   "outputs": [],
   "source": []
  }
 ],
 "metadata": {
  "kernelspec": {
   "display_name": "Python 3",
   "language": "python",
   "name": "python3"
  },
  "language_info": {
   "codemirror_mode": {
    "name": "ipython",
    "version": 3
   },
   "file_extension": ".py",
   "mimetype": "text/x-python",
   "name": "python",
   "nbconvert_exporter": "python",
   "pygments_lexer": "ipython3",
   "version": "3.8.5"
  },
  "toc": {
   "base_numbering": 1,
   "nav_menu": {},
   "number_sections": true,
   "sideBar": true,
   "skip_h1_title": false,
   "title_cell": "Table of Contents",
   "title_sidebar": "Contents",
   "toc_cell": false,
   "toc_position": {},
   "toc_section_display": true,
   "toc_window_display": false
  },
  "varInspector": {
   "cols": {
    "lenName": 16,
    "lenType": 16,
    "lenVar": 40
   },
   "kernels_config": {
    "python": {
     "delete_cmd_postfix": "",
     "delete_cmd_prefix": "del ",
     "library": "var_list.py",
     "varRefreshCmd": "print(var_dic_list())"
    },
    "r": {
     "delete_cmd_postfix": ") ",
     "delete_cmd_prefix": "rm(",
     "library": "var_list.r",
     "varRefreshCmd": "cat(var_dic_list()) "
    }
   },
   "types_to_exclude": [
    "module",
    "function",
    "builtin_function_or_method",
    "instance",
    "_Feature"
   ],
   "window_display": false
  }
 },
 "nbformat": 4,
 "nbformat_minor": 4
}
